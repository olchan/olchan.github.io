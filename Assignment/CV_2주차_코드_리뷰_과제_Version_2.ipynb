{
  "cells": [
    {
      "cell_type": "markdown",
      "source": [
        "# 1)**import module**"
      ],
      "metadata": {
        "id": "WUWgWnnxjUpz"
      },
      "id": "WUWgWnnxjUpz"
    },
    {
      "cell_type": "code",
      "execution_count": null,
      "metadata": {
        "id": "ee3c0421"
      },
      "outputs": [],
      "source": [
        "import numpy as np\n",
        "import torchvision.transforms as transforms\n",
        "from torch.utils.data import Dataset, DataLoader\n",
        "from PIL import Image"
      ],
      "id": "ee3c0421"
    },
    {
      "cell_type": "code",
      "execution_count": null,
      "metadata": {
        "id": "QQuSn9RVeztT"
      },
      "outputs": [],
      "source": [
        "from google.colab import drive\n",
        "drive.mount('/content/drive')"
      ],
      "id": "QQuSn9RVeztT"
    },
    {
      "cell_type": "markdown",
      "source": [
        "# **2) Dataset build**"
      ],
      "metadata": {
        "id": "TkBu4mXRjbgz"
      },
      "id": "TkBu4mXRjbgz"
    },
    {
      "cell_type": "code",
      "execution_count": null,
      "metadata": {
        "id": "4da07e0c"
      },
      "outputs": [],
      "source": [
        "project_folder = '/content/drive/MyDrive/Project3'\n",
        "\n",
        "import os\n",
        "\n",
        "image = []\n",
        "label = []\n",
        "\n",
        "for subdir, _, files in os.walk(project_folder):\n",
        "    for file in files:\n",
        "        if file.endswith(('png', 'jpg', 'jpeg')):\n",
        "            image_path = os.path.join(subdir, file)\n",
        "            image.append(image_path)\n",
        "\n",
        "            label_name = os.path.basename(subdir)\n",
        "            label.append(label_name)"
      ],
      "id": "4da07e0c"
    },
    {
      "cell_type": "code",
      "execution_count": null,
      "metadata": {
        "id": "43255b4b"
      },
      "outputs": [],
      "source": [
        "BATCH_SIZE = 1 #변경 금지\n",
        "\n",
        "TRAINING_image = []\n",
        "TRAINING_label = []\n",
        "TEST_image = []\n",
        "TEST_label = []\n",
        "\n",
        "for i in range(0,80):\n",
        "  for j in range(0,20):\n",
        "    for k in range(0,2):\n",
        "      TRAINING_image.append(image[200*j+i+k])\n",
        "      TRAINING_label.append(label[200*j+i+k])\n",
        "\n",
        "for i in range(80, 100):\n",
        "  for j in range(0,20):\n",
        "    for k in range(0,2):\n",
        "      TEST_image.append(image[200*j+i+k])\n",
        "      TEST_label.append(label[200*j+i+k])\n",
        "\n",
        "\n",
        "import random\n",
        "\n",
        "def shuffle_images_labels(image_list, label_list):\n",
        "    combined_list = list(zip(image_list, label_list))  # 이미지와 라벨을 쌍으로 묶음\n",
        "    for i in range(1, len(combined_list)-1, 2):\n",
        "        if random.random() < 0.3:  # 50% 확률로 스왑 수행\n",
        "            combined_list[i], combined_list[i+1] = combined_list[i+1], combined_list[1]\n",
        "    return zip(*combined_list)\n",
        "\n",
        "\n",
        "TRAINING_image, TRAINING_label = shuffle_images_labels(TRAINING_image, TRAINING_label)"
      ],
      "id": "43255b4b"
    },
    {
      "cell_type": "markdown",
      "source": [
        "# 코드 문제점 개선\n",
        "- 실제로는 30% 확률로 스왑을 수행하고 있다.\n",
        "- i와 i+1을 swap하는 게 아니었을까 생각이 들어 수정해봅니다.\n",
        "\n",
        "```\n",
        "if random.random() < 0.5:  # 50% 확률로 스왑 수행\n",
        "            combined_list[i], combined_list[i+1] = combined_list[i+1], combined_list[i]  # 스왑 수행\n",
        "```\n",
        "\n",
        "\n"
      ],
      "metadata": {
        "id": "N1P2zszaYT-7"
      },
      "id": "N1P2zszaYT-7"
    },
    {
      "cell_type": "code",
      "source": [
        "class CustomDataset(Dataset):\n",
        "    def __init__(self, image_paths, labels, transform=None):\n",
        "        self.image_paths = image_paths\n",
        "        self.labels = labels\n",
        "\n",
        "    def __len__(self):\n",
        "        return len(self.image_paths)\n",
        "\n",
        "    def __getitem__(self, idx):\n",
        "        image_path = self.image_paths[idx]\n",
        "        label = self.labels[idx]\n",
        "        image = Image.open(image_path).convert('RGB')\n",
        "        image = transforms.Resize((224, 224))(image)\n",
        "        image = transforms.ToTensor()(image)\n",
        "\n",
        "        return image, label\n",
        "\n",
        "    #Renoir 1.0에서는 Randomcrop((224,224))을 사용하였으나,\n",
        "    #이미지가 모델에 입력되기도 전에 정보 손실이 생기지 않게 하기 위해\n",
        "    #Renoir 2.0에서는 Resize((224,224)) 사용\n",
        "\n",
        "train_dataset = CustomDataset(TRAINING_image, TRAINING_label)\n",
        "train_loader = DataLoader(train_dataset, batch_size = BATCH_SIZE)\n",
        "test_dataset = CustomDataset(TEST_image, TEST_label)\n",
        "test_loader = DataLoader(test_dataset, batch_size = BATCH_SIZE)"
      ],
      "metadata": {
        "id": "-F7SwENpwtRK"
      },
      "id": "-F7SwENpwtRK",
      "execution_count": null,
      "outputs": []
    },
    {
      "cell_type": "code",
      "source": [
        "# __getitem__ 함수는 주어진 경로의 이미지를 불러오고, 크기를 224x224로 Resize하고, Tensor로 변환한 후 레이블과 함께 반환합니다.\n",
        "# DataLoader를 사용하여 배치 단위로 데이터를 나누어 학습할 수 있게 준비합니다."
      ],
      "metadata": {
        "id": "zWW6k_NiWtbv"
      },
      "id": "zWW6k_NiWtbv",
      "execution_count": null,
      "outputs": []
    },
    {
      "cell_type": "markdown",
      "source": [
        "# **3) Model Define**"
      ],
      "metadata": {
        "id": "XHFAXF7djnyI"
      },
      "id": "XHFAXF7djnyI"
    },
    {
      "cell_type": "code",
      "source": [
        "# GoogLeNet 모델을 사용하여 얼굴 유사도 비교를 수행하는 샴 네트워크 구조를 기반으로 한 모델을 학습합니다.\n",
        "# GoogLeNet 아키텍처를 구현하며, 기본적으로 Inception 모듈을 사용하여 네트워크의 다양한 계층을 쌓습니다.\n",
        "# Inception Module : 다양한 크기의 커널(1x1, 3x3, 5x5)과 Max Pooling을 결합해 다양한 스케일의 특징을 추출\n",
        "# 모델의 마지막은 AvgPool2d로 크기를 1x1로 줄이고, 결과는 벡터 형태로 반환합니다."
      ],
      "metadata": {
        "id": "JqeKe1gqWiUq"
      },
      "id": "JqeKe1gqWiUq",
      "execution_count": null,
      "outputs": []
    },
    {
      "cell_type": "code",
      "source": [
        "import torch\n",
        "import torch.nn as nn\n",
        "from torch import Tensor\n",
        "\n",
        "def conv_1(in_dim, out_dim):\n",
        "  model = nn.Sequential(\n",
        "      nn.Conv2d(in_dim, out_dim, 1, 1),\n",
        "      nn.ReLU(),\n",
        "  )\n",
        "  return model\n",
        "\n",
        "def conv_1_3(in_dim,mid_dim,out_dim):\n",
        "    model = nn.Sequential(\n",
        "        nn.Conv2d(in_dim,mid_dim,1,1),\n",
        "        nn.ReLU(),\n",
        "        nn.Conv2d(mid_dim,out_dim,3,1,1),\n",
        "        nn.ReLU()\n",
        "    )\n",
        "    return model\n",
        "\n",
        "def conv_1_5(in_dim,mid_dim,out_dim):\n",
        "    model = nn.Sequential(\n",
        "        nn.Conv2d(in_dim,mid_dim,1,1),\n",
        "        nn.ReLU(),\n",
        "        nn.Conv2d(mid_dim,out_dim,5,1,2),\n",
        "        nn.ReLU()\n",
        "    )\n",
        "    return model\n",
        "\n",
        "def max_3_1(in_dim,out_dim):\n",
        "    model = nn.Sequential(\n",
        "        nn.MaxPool2d(kernel_size=3,stride=1,padding=1),\n",
        "        nn.Conv2d(in_dim,out_dim,1,1),\n",
        "        nn.ReLU(),\n",
        "    )\n",
        "    return model\n",
        "\n",
        "class inception_module(nn.Module):\n",
        "    def __init__(self,in_dim,out_dim_1,mid_dim_3,out_dim_3,mid_dim_5,out_dim_5,pool_dim):\n",
        "        super(inception_module,self).__init__()\n",
        "\n",
        "        self.conv_1 = conv_1(in_dim,out_dim_1)\n",
        "        self.conv_1_3 = conv_1_3(in_dim,mid_dim_3,out_dim_3)\n",
        "        self.conv_1_5 = conv_1_5(in_dim,mid_dim_5,out_dim_5)\n",
        "        self.max_3_1 = max_3_1(in_dim,pool_dim)\n",
        "\n",
        "    def forward(self,x):\n",
        "        out_1 = self.conv_1(x)\n",
        "        out_2 = self.conv_1_3(x)\n",
        "        out_3 = self.conv_1_5(x)\n",
        "        out_4 = self.max_3_1(x)\n",
        "\n",
        "        output = torch.cat([out_1,out_2,out_3,out_4],1)\n",
        "        return output\n"
      ],
      "metadata": {
        "id": "hO7xpKTij7Th"
      },
      "id": "hO7xpKTij7Th",
      "execution_count": null,
      "outputs": []
    },
    {
      "cell_type": "code",
      "source": [
        "#nn.Conv2d(input_chennel, output_channel, kernel_size, stride, padding)\n",
        "#nn.MaxPool2d(kernel_size, stride, padding)\n",
        "\n",
        "class GoogLeNet(nn.Module):\n",
        "    def __init__(self, base_dim):\n",
        "        super(GoogLeNet, self).__init__()\n",
        "        self.layer_1 = nn.Sequential(\n",
        "            nn.Conv2d(3,base_dim,7,2,3),\n",
        "            nn.MaxPool2d(3,2,1),\n",
        "            nn.Conv2d(base_dim,base_dim*3,3,1,1),\n",
        "            nn.MaxPool2d(3,2,1),\n",
        "        )\n",
        "        self.layer_2 = nn.Sequential(\n",
        "            inception_module(base_dim*3,64,96,128,16,32,32),\n",
        "            inception_module(base_dim*4,128,128,192,32,96,64),\n",
        "            nn.MaxPool2d(3,2,1),\n",
        "        )\n",
        "        self.layer_3 = nn.Sequential(\n",
        "            inception_module(480,192,96,208,16,48,64),\n",
        "            inception_module(512,160,112,224,24,64,64),\n",
        "            inception_module(512,128,128,256,24,64,64),\n",
        "            inception_module(512,112,144,288,32,64,64),\n",
        "            inception_module(528,256,160,320,32,128,128),\n",
        "            nn.MaxPool2d(3,2,1),\n",
        "        )\n",
        "        self.layer_4 = nn.Sequential(\n",
        "            inception_module(832,256,160,320,32,128,128),\n",
        "            inception_module(832,384,192,384,48,128,128),\n",
        "            nn.AvgPool2d(7,1), #nn.AvgPool2d(7,1) output size : 1x1x1024\n",
        "        )\n",
        "\n",
        "    def forward(self, x):\n",
        "        out = self.layer_1(x)\n",
        "        out = self.layer_2(out)\n",
        "        out = self.layer_3(out)\n",
        "        out = self.layer_4(out)\n",
        "        out = out.view(out.size(0), -1)\n",
        "        return out  #self.layer_4를 통과한 tensor return"
      ],
      "metadata": {
        "id": "zv9AQ97cltfB"
      },
      "id": "zv9AQ97cltfB",
      "execution_count": null,
      "outputs": []
    },
    {
      "cell_type": "markdown",
      "source": [
        "# **4)Model initialization**"
      ],
      "metadata": {
        "id": "garKz00pEYS-"
      },
      "id": "garKz00pEYS-"
    },
    {
      "cell_type": "code",
      "source": [
        "import torch.nn.init as init\n",
        "import torch.nn as nn\n",
        "\n",
        "DEVICE = torch.device('cuda' if torch.cuda.is_available() else 'cpu')\n",
        "model = GoogLeNet(base_dim=64)\n",
        "model = model.to(DEVICE)\n",
        "\n",
        "loss = nn.BCELoss()\n",
        "optimizer =torch.optim.SGD(model.parameters(), lr = 0.005,momentum = 0.9, weight_decay = 0.0005)\n",
        "scheduler = torch.optim.lr_scheduler.StepLR(optimizer, step_size=8, gamma=0.04)"
      ],
      "metadata": {
        "id": "soBQgVxUl_N5"
      },
      "id": "soBQgVxUl_N5",
      "execution_count": null,
      "outputs": []
    },
    {
      "cell_type": "markdown",
      "source": [
        "# **5) TEST function define**"
      ],
      "metadata": {
        "id": "RkYrAbShJ0uP"
      },
      "id": "RkYrAbShJ0uP"
    },
    {
      "cell_type": "code",
      "source": [
        "def test(test_loader, DEVICE):\n",
        "  correct_pred = 0\n",
        "\n",
        "  for i, (_image1, _label1) in enumerate(test_loader):\n",
        "    image1 = _image1.to(DEVICE)\n",
        "    label1 = _label1[0]\n",
        "    vector1_tensor = model(image1)\n",
        "\n",
        "    if (i == 0):  # Exception Case\n",
        "      label2 = label1\n",
        "      vector2_tensor = vector1_tensor\n",
        "\n",
        "    target_vector = [label1 == label2]\n",
        "    target_tensor = torch.tensor(target_vector).float()\n",
        "    target_tensor = target_tensor.to(DEVICE)\n",
        "\n",
        "    similarity =  F.cosine_similarity(vector1_tensor, vector2_tensor, dim= -1)\n",
        "    scaled_similarity = torch.sigmoid(similarity)\n",
        "\n",
        "    if label1 == label2 and scaled_similarity.item() > 0.8:\n",
        "        correct_pred += 1\n",
        "    elif label1 != label2 and scaled_similarity.item() < 0.8:\n",
        "        correct_pred += 1\n",
        "\n",
        "    #연산량 감소를 위한 텐서 재활용\n",
        "    label2 = label1\n",
        "    vector2_tensor = vector1_tensor.detach()\n",
        "\n",
        "  return correct_pred"
      ],
      "metadata": {
        "id": "nabT0mfZJ78m"
      },
      "id": "nabT0mfZJ78m",
      "execution_count": null,
      "outputs": []
    },
    {
      "cell_type": "markdown",
      "source": [
        "# **6) Training**"
      ],
      "metadata": {
        "id": "hz-6ONs2E5cz"
      },
      "id": "hz-6ONs2E5cz"
    },
    {
      "cell_type": "code",
      "source": [
        "# 손실 함수로는 **Binary Cross Entropy (BCELoss)**를 사용하고\n",
        "# 최적화 기법으로는 SGD(Stochastic Gradient Descent)를 사용합니다.\n",
        "# 학습률 감소를 위해 Scheduler를 사용해 매 8 에포크마다 학습률을 감소시킵니다."
      ],
      "metadata": {
        "id": "7S-Ov4pzXMpt"
      },
      "id": "7S-Ov4pzXMpt",
      "execution_count": null,
      "outputs": []
    },
    {
      "cell_type": "code",
      "source": [
        "# 학습 중 두 개의 이미지 벡터를 구하고, 이 벡터 간의 코사인 유사도를 계산합니다.\n",
        "# Cosine Similarity를 기반으로 두 이미지가 동일한지 아닌지 판단하고, 그에 따라 맞는 예측을 카운트합니다.\n",
        "# 손실 함수는 scaled_similarity와 목표 벡터 간의 차이를 최소화하는 방식으로 동작합니다."
      ],
      "metadata": {
        "id": "nCc-mdvfXUHo"
      },
      "id": "nCc-mdvfXUHo",
      "execution_count": null,
      "outputs": []
    },
    {
      "cell_type": "code",
      "source": [
        "import torch.nn.functional as F\n",
        "import time\n",
        "\n",
        "EPOCH = 50\n",
        "\n",
        "start_time = time.time()\n",
        "train_acc_lst, test_acc_lst = [],[]\n",
        "\n",
        "for epoch in range(EPOCH):\n",
        "  model.train()\n",
        "  correct_pred, num_examples, test_acc = 0, len(train_loader), 0\n",
        "\n",
        "  for i, (_image1, _label1) in enumerate(train_loader):\n",
        "    optimizer.zero_grad()\n",
        "\n",
        "    image1 = _image1.to(DEVICE)\n",
        "    label1 = _label1[0]\n",
        "    vector1_tensor = model(image1)\n",
        "\n",
        "    if (i == 0):  # Exception Case\n",
        "      label2 = label1\n",
        "      vector2_tensor = vector1_tensor\n",
        "\n",
        "    target_vector = [label1 == label2]\n",
        "    target_tensor = torch.tensor(target_vector).float()\n",
        "    target_tensor = target_tensor.to(DEVICE)\n",
        "\n",
        "    similarity =  F.cosine_similarity(vector1_tensor, vector2_tensor, dim= -1)\n",
        "    scaled_similarity = torch.sigmoid(similarity)\n",
        "\n",
        "    if label1 == label2 and scaled_similarity.item() > 0.8:\n",
        "        correct_pred += 1\n",
        "    elif label1 != label2 and scaled_similarity.item() < 0.8:\n",
        "        correct_pred += 1\n",
        "\n",
        "    cost= loss(scaled_similarity, target_tensor)\n",
        "    cost.backward()\n",
        "    optimizer.step()\n",
        "\n",
        "    #연산량 감소를 위한 텐서 재활용\n",
        "    label2 = label1\n",
        "    vector2_tensor = vector1_tensor.detach()\n",
        "\n",
        "    if not i % 40:\n",
        "      print (f'Epoch: {epoch+65:03d} | '\n",
        "            f'Batch {i:03d}/{len(train_loader):03d} |'\n",
        "             f' Cost: {cost:.4f}')\n",
        "\n",
        "  test_acc = test(test_loader, DEVICE)\n",
        "\n",
        "  PATH = f\"/content/drive/MyDrive/model_weights_epoch_{epoch}.pth\"  # 에포크별로 파일 이름 지정\n",
        "  torch.save(model.state_dict(), PATH)\n",
        "\n",
        "  print('training accuracy : ', (correct_pred/len(train_loader))*100,'% | test accuracy : ', (test_acc/len(test_loader))*100, '%')\n",
        "\n",
        "  elapsed = (time.time() - start_time)/60\n",
        "  print(f'Time elapsed: {elapsed:.2f} min')\n",
        "\n",
        "elapsed = (time.time() - start_time)/60\n",
        "print(f'Total Training Time: {elapsed:.2f} min')"
      ],
      "metadata": {
        "id": "gtnXz1lhngLS"
      },
      "id": "gtnXz1lhngLS",
      "execution_count": null,
      "outputs": []
    }
  ],
  "metadata": {
    "colab": {
      "provenance": []
    },
    "kernelspec": {
      "display_name": "Python 3",
      "name": "python3"
    },
    "language_info": {
      "codemirror_mode": {
        "name": "ipython",
        "version": 3
      },
      "file_extension": ".py",
      "mimetype": "text/x-python",
      "name": "python",
      "nbconvert_exporter": "python",
      "pygments_lexer": "ipython3",
      "version": "3.9.7"
    }
  },
  "nbformat": 4,
  "nbformat_minor": 5
}